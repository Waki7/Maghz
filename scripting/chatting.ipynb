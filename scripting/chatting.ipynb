{
 "cells": [
  {
   "cell_type": "code",
   "execution_count": 1,
   "id": "initial_id",
   "metadata": {
    "collapsed": true,
    "ExecuteTime": {
     "end_time": "2023-12-24T04:26:15.466873776Z",
     "start_time": "2023-12-24T04:26:14.632307617Z"
    }
   },
   "outputs": [
    {
     "name": "stdout",
     "output_type": "stream",
     "text": [
      "CUDA_LAUNCH_BLOCKING 1\n",
      "1 gpus available, will be using gpu 0\n"
     ]
    }
   ],
   "source": [
    "from __future__ import annotations\n",
    "\n",
    "import os\n",
    "\n",
    "import mgz.settings as settings\n",
    "\n",
    "os.putenv(\"PYTORCH_ENABLE_MPS_FALLBACK\", \"1\")\n",
    "# from mgz.models.nlp.bart_interface import BARTHubInterface\n",
    "\n",
    "from mgz.typing import *\n",
    "import transformers as hug"
   ]
  },
  {
   "cell_type": "code",
   "outputs": [
    {
     "name": "stdout",
     "output_type": "stream",
     "text": [
      "... loading model and tokenizer\n"
     ]
    },
    {
     "name": "stderr",
     "output_type": "stream",
     "text": [
      "Special tokens have been added in the vocabulary, make sure the associated word embeddings are fine-tuned or trained.\n"
     ]
    },
    {
     "data": {
      "text/plain": "Loading checkpoint shards:   0%|          | 0/2 [00:00<?, ?it/s]",
      "application/vnd.jupyter.widget-view+json": {
       "version_major": 2,
       "version_minor": 0,
       "model_id": "5783d3597e09469399c66496f466811e"
      }
     },
     "metadata": {},
     "output_type": "display_data"
    },
    {
     "name": "stderr",
     "output_type": "stream",
     "text": [
      "/home/ceyer/miniconda3/envs/Maghz/lib/python3.8/site-packages/transformers/generation/configuration_utils.py:381: UserWarning: `do_sample` is set to `False`. However, `temperature` is set to `0.5` -- this flag is only used in sample-based generation modes. You should set `do_sample=True` or unset `temperature`. This was detected when initializing the generation config instance, which means the corresponding file may hold incorrect parameterization and should be fixed.\n",
      "  warnings.warn(\n"
     ]
    }
   ],
   "source": [
    "\n",
    "\n",
    "logging.basicConfig(level=logging.WARNING)\n",
    "model_name = 'openchat/openchat_3.5'\n",
    "print('... loading model and tokenizer')\n",
    "with torch.cuda.amp.autocast(enabled=True):\n",
    "    quantize = True\n",
    "    quantization_cfg = None\n",
    "    if quantize:\n",
    "        try:\n",
    "            from accelerate.utils import BnbQuantizationConfig\n",
    "            import bitsandbytes\n",
    "\n",
    "            quantization_cfg = BnbQuantizationConfig(\n",
    "                load_in_8bit=quantize, )\n",
    "        except ImportError:\n",
    "            print(\"Module 'some_module' is not installed.\")\n",
    "            quantization_cfg = None\n",
    "            quantize = False\n",
    "\n",
    "    # model_node: ModelNode = \\\n",
    "    #     ModelNode.load_from_id(MistralForCausalLM, model_name,\n",
    "    #                            model_name,\n",
    "    #                            quantization_config=quantization_cfg)\n",
    "    # tokenizer = model_node.tokenizer\n",
    "    # model_node.model.eval()\n",
    "\n",
    "    tokenizer = hug.LlamaTokenizerFast.from_pretrained(\n",
    "        model_name)\n",
    "    model_hug = hug.MistralForCausalLM.from_pretrained(model_name, device_map={\n",
    "        \"\": settings.DEVICE},\n",
    "                                                       load_in_8bit=True)\n",
    "    model_hug.eval()\n"
   ],
   "metadata": {
    "collapsed": false,
    "ExecuteTime": {
     "end_time": "2023-12-24T04:26:24.859641139Z",
     "start_time": "2023-12-24T04:26:15.466261848Z"
    }
   },
   "id": "6e15a19515712af5",
   "execution_count": 2
  },
  {
   "cell_type": "code",
   "outputs": [
    {
     "name": "stderr",
     "output_type": "stream",
     "text": [
      "/home/ceyer/miniconda3/envs/Maghz/lib/python3.8/site-packages/transformers/generation/utils.py:1473: UserWarning: You have modified the pretrained model configuration to control generation. This is a deprecated strategy to control generation and will be removed soon, in a future version. Please use and modify the model generation configuration (see https://huggingface.co/docs/transformers/generation_strategies#default-text-generation-configuration )\n",
      "  warnings.warn(\n",
      "Setting `pad_token_id` to `eos_token_id`:32000 for open-end generation.\n",
      "2023-12-23 20:26:26.093106: W tensorflow/stream_executor/platform/default/dso_loader.cc:64] Could not load dynamic library 'libcudart.so.11.0'; dlerror: libcudart.so.11.0: cannot open shared object file: No such file or directory\n",
      "2023-12-23 20:26:26.093120: I tensorflow/stream_executor/cuda/cudart_stub.cc:29] Ignore above cudart dlerror if you do not have a GPU set up on your machine.\n"
     ]
    },
    {
     "name": "stdout",
     "output_type": "stream",
     "text": [
      "hug decoded ['GPT4 Correct User: Is this e-mail about company business or strategy?: \\n        Message-ID: <23743848.1075863311776.JavaMail.evans@thyme>\\n        Date: Wed, 11 Jul 2001 08:29:22 -0700 (PDT)\\n        From: legalonline-compliance@enron.com\\n        To: williams@mailman.enron.com, bwillia5@enron.com\\n        Subject: Confidential Information and Securities Trading\\n        Mime-Version: 1.0\\n        Content-Type: text/plain; charset=us-ascii\\n        Content-Transfer-Encoding: 7bit\\n        X-From: Office of the Chairman - Enron Wholesale Services <legalonline-compliance@enron.com>@ENRON <IMCEANOTES-Office+20of+20the+20Chairman+20-+20Enron+20Wholesale+20Services+20+3Clegalonline-compliance+40enron+2Ecom+3E+40ENRON@ENRON.com>\\n        X-To: WILLIAMS@mailman.enron.com, WILLIAM <bwillia5@enron.com>\\n        X-cc: \\n        X-bcc: \\n        X-Folder: \\\\Williams III, Bill (Non-Privileged)\\\\Bill Williams III\\n        X-Origin: Williams-B\\n        X-FileName: Williams III, Bill (Non-Privileged).pst\\n        \\n        To:WILLIAMS, WILLIAM\\n        Email:bwillia5@enron.com - 503-464-3730\\n        \\n        Enron Wholesale Services - Office of the Chairman\\n        \\n        From:  Mark Frevert, Chairman & CEO\\n        Mark Haedicke, Managing Director & General Counsel\\n        \\n        Subject:  Confidential Information and Securities Trading\\n        \\n        To keep pace with the fluid and fast-changing demands of our equity trading activities, Enron Wholesale Services (\"EWS\") has recently revised its official Policies and Procedures Regarding Confidential Information and Securities Trading (\"Policies and Procedures\").  These revisions reflect two major developments: (1) our equity trading activities have been extended into the United Kingdom, and (2) in an effort to streamline the information flow process, the \"Review Team\" will play a more centralized role, so that the role of the \"Resource Group\" is no longer necessary.You are required to become familiar with, and to comply with, the Policies and Procedures.  The newly revised Policies and Procedures are available for your review on LegalOnline, the new intranet website maintained by the Enron Wholesale Services Legal Department.  Please click on the attached link to access LegalOnline:\\n        http://legalonline.corp.enron.com/chinesewall.asp \\n        \\n        If you have already certified compliance with the Policies and Procedures during the 2001 calendar year, you need not re-certify at this time, although you are still required to to review and become familiar with the revised Policies and Procedures.  If you have not certified compliance with the Policies and Procedures during the 2001 calendar year, then you must do so within two weeks of your receipt of this message.  The LegalOnline site will allow you to quickly and conveniently certify your compliance on-line with your SAP Personal ID number.  If you have any questions concerning the Policies or Procedures, please call Bob Bruce at extension 5-7780 or Donna Lowry at extension 3-1939. \\n         GPT4 Correct Assistant: 1. Is this e-mail about company business or strategy?: Yes, this e-mail is about company business, specifically regarding the revised Policies and Procedures Regarding Confidential Information and Securities Trading at Enron Wholesale Services.']\n"
     ]
    }
   ],
   "source": [
    "with (torch.cuda.amp.autocast(enabled=True)):\n",
    "    tag_qa_text = (\n",
    "        f\"GPT4 Correct User: Is this e-mail about company business or strategy?: \"\n",
    "        \"\"\"\n",
    "        Message-ID: <23743848.1075863311776.JavaMail.evans@thyme>\n",
    "        Date: Wed, 11 Jul 2001 08:29:22 -0700 (PDT)\n",
    "        From: legalonline-compliance@enron.com\n",
    "        To: williams@mailman.enron.com, bwillia5@enron.com\n",
    "        Subject: Confidential Information and Securities Trading\n",
    "        Mime-Version: 1.0\n",
    "        Content-Type: text/plain; charset=us-ascii\n",
    "        Content-Transfer-Encoding: 7bit\n",
    "        X-From: Office of the Chairman - Enron Wholesale Services <legalonline-compliance@enron.com>@ENRON <IMCEANOTES-Office+20of+20the+20Chairman+20-+20Enron+20Wholesale+20Services+20+3Clegalonline-compliance+40enron+2Ecom+3E+40ENRON@ENRON.com>\n",
    "        X-To: WILLIAMS@mailman.enron.com, WILLIAM <bwillia5@enron.com>\n",
    "        X-cc: \n",
    "        X-bcc: \n",
    "        X-Folder: \\Williams III, Bill (Non-Privileged)\\Bill Williams III\n",
    "        X-Origin: Williams-B\n",
    "        X-FileName: Williams III, Bill (Non-Privileged).pst\n",
    "        \n",
    "        To:WILLIAMS, WILLIAM\n",
    "        Email:bwillia5@enron.com - 503-464-3730\n",
    "        \n",
    "        Enron Wholesale Services - Office of the Chairman\n",
    "        \n",
    "        From:  Mark Frevert, Chairman & CEO\n",
    "        Mark Haedicke, Managing Director & General Counsel\n",
    "        \n",
    "        Subject:  Confidential Information and Securities Trading\n",
    "        \n",
    "        To keep pace with the fluid and fast-changing demands of our equity trading activities, Enron Wholesale Services (\"EWS\") has recently revised its official Policies and Procedures Regarding Confidential Information and Securities Trading (\"Policies and Procedures\").  These revisions reflect two major developments: (1) our equity trading activities have been extended into the United Kingdom, and (2) in an effort to streamline the information flow process, the \"Review Team\" will play a more centralized role, so that the role of the \"Resource Group\" is no longer necessary.You are required to become familiar with, and to comply with, the Policies and Procedures.  The newly revised Policies and Procedures are available for your review on LegalOnline, the new intranet website maintained by the Enron Wholesale Services Legal Department.  Please click on the attached link to access LegalOnline:\n",
    "        http://legalonline.corp.enron.com/chinesewall.asp \n",
    "        \n",
    "        If you have already certified compliance with the Policies and Procedures during the 2001 calendar year, you need not re-certify at this time, although you are still required to to review and become familiar with the revised Policies and Procedures.  If you have not certified compliance with the Policies and Procedures during the 2001 calendar year, then you must do so within two weeks of your receipt of this message.  The LegalOnline site will allow you to quickly and conveniently certify your compliance on-line with your SAP Personal ID number.  If you have any questions concerning the Policies or Procedures, please call Bob Bruce at extension 5-7780 or Donna Lowry at extension 3-1939. \n",
    "        \"\"\"\n",
    "        f\"<|end_of_turn|>GPT4 Correct Assistant: \")\n",
    "    text = [tag_qa_text]\n",
    "\n",
    "    # tokens = generate_controller(model_node.model, text,\n",
    "    #                              model_node.tokenizer)\n",
    "    # summary: List[str] = model_node.tokenizer.batch_decode(tokens,\n",
    "    #                                                        skip_special_tokens=True)\n",
    "    # print('mgz decoded', summary)\n",
    "\n",
    "    tokenizer.pad_token_id = tokenizer.eos_token_id\n",
    "    tokenized = tokenizer(text, return_tensors='pt',\n",
    "                          padding=True)\n",
    "    input_ids = tokenized.input_ids.to(settings.DEVICE)\n",
    "    attention_mask = tokenized.attention_mask.to(settings.DEVICE)\n",
    "    generated_ids = model_hug.generate(input_ids, attention_mask=attention_mask,\n",
    "                                       max_new_tokens=1000)\n",
    "    # print('generated_ids', generated_ids)\n",
    "    summary: List[str] = tokenizer.batch_decode(generated_ids,\n",
    "                                                skip_special_tokens=True)\n",
    "    print('hug decoded', summary)\n",
    "\n"
   ],
   "metadata": {
    "collapsed": false,
    "ExecuteTime": {
     "end_time": "2023-12-24T04:26:37.759120422Z",
     "start_time": "2023-12-24T04:26:24.858624583Z"
    }
   },
   "id": "688855136e151513",
   "execution_count": 3
  },
  {
   "cell_type": "code",
   "outputs": [],
   "source": [],
   "metadata": {
    "collapsed": false,
    "ExecuteTime": {
     "end_time": "2023-12-24T04:26:37.760987699Z",
     "start_time": "2023-12-24T04:26:37.758834544Z"
    }
   },
   "id": "d32925df7e86a35f",
   "execution_count": 3
  }
 ],
 "metadata": {
  "kernelspec": {
   "display_name": "Python 3",
   "language": "python",
   "name": "python3"
  },
  "language_info": {
   "codemirror_mode": {
    "name": "ipython",
    "version": 2
   },
   "file_extension": ".py",
   "mimetype": "text/x-python",
   "name": "python",
   "nbconvert_exporter": "python",
   "pygments_lexer": "ipython2",
   "version": "2.7.6"
  }
 },
 "nbformat": 4,
 "nbformat_minor": 5
}
